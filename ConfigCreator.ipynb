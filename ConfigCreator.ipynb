{
 "cells": [
  {
   "cell_type": "code",
   "execution_count": 95,
   "metadata": {},
   "outputs": [
    {
     "name": "stdout",
     "output_type": "stream",
     "text": [
      "(\"Memename\",\"Templates/Drake-Comparison.jpg\",{ \n",
      "    \"Field_0\":((707,465,848,485),(0,0,0),40), \n",
      "    \"Field_1\":((68,31,526,783),(0,0,0),40), \n",
      "    \"Field_2\":((95,54,499,760),(0,0,0),40), \n",
      "    \"Field_3\":((119,68,475,742),(0,0,0),40), \n",
      "    \"Field_4\":((134,86,458,724),(0,0,0),40), \n",
      "    \"Field_5\":((153,103,433,710),(0,0,0),40), \n",
      "    \"Field_6\":((171,120,430,719),(0,0,0),40), \n",
      "    \"Field_7\":((289,352,972,385),(0,0,0),40), \n",
      "    \"Field_8\":((375,401,868,420),(0,0,0),40), \n",
      "    \"Field_9\":((286,479,982,578),(0,0,0),40), \n",
      "    \"Field_10\":((767,800,769,800),(0,0,0),40), },\"Fonts/sfont.otf\")\n"
     ]
    }
   ],
   "source": [
    "import pygame, random\n",
    "from PIL import Image\n",
    "\n",
    "file = \"Templates/Drake-Comparison.jpg\"\n",
    "im = Image.open(file)\n",
    "standardcolor = \"(0,0,0)\"\n",
    "stadartsize = \"40\"\n",
    "\n",
    "\n",
    "screen = pygame.display.set_mode(im.size)\n",
    "\n",
    "draw_on = False\n",
    "last_pos = (0, 0)\n",
    "color = (255, 128, 0)\n",
    "radius = 10\n",
    "\n",
    "Img = pygame.image.load(file)\n",
    "screen.blit(Img, (0,0))\n",
    "\n",
    "def roundline(srf, color, start, end, radius=1):\n",
    "    dx = end[0]-start[0]\n",
    "    dy = end[1]-start[1]\n",
    "    distance = max(abs(dx), abs(dy))\n",
    "    for i in range(distance):\n",
    "        x = int( start[0]+float(i)/distance*dx)\n",
    "        y = int( start[1]+float(i)/distance*dy)\n",
    "        pygame.draw.circle(srf, color, (x, y), radius)\n",
    "\n",
    "        \n",
    "rects = []\n",
    "colors = []\n",
    "        \n",
    "def drawrects():\n",
    "    o = 0\n",
    "    for i in rects:\n",
    "        pygame.draw.rect(screen, colors[o], i, 10)\n",
    "        o += 1\n",
    "\n",
    "        \n",
    "\n",
    "try:\n",
    "    while True:\n",
    "        e = pygame.event.wait()\n",
    "        if e.type == pygame.QUIT:\n",
    "            raise StopIteration\n",
    "        if e.type == pygame.MOUSEBUTTONDOWN:\n",
    "            color = (random.randrange(256), random.randrange(256), random.randrange(256))\n",
    "            #pygame.draw.circle(screen, color, e.pos, radius)\n",
    "            pos1 = e.pos\n",
    "            draw_on = True\n",
    "        if e.type == pygame.MOUSEBUTTONUP:\n",
    "            draw_on = False\n",
    "            #pygame.draw.rect(screen, color,(pos1[0],pos1[1], e.pos[0] - pos1[0] ,e.pos[1] - pos1[1]))\n",
    "            rects.append((pos1[0],pos1[1], e.pos[0] - pos1[0] ,e.pos[1] - pos1[1]))\n",
    "            colors.append(color)\n",
    "            \n",
    "        if e.type == pygame.MOUSEMOTION:\n",
    "            #if draw_on:\n",
    "            #    pygame.draw.circle(screen, color, e.pos, radius)\n",
    "            #    roundline(screen, color, e.pos, last_pos,  radius)\n",
    "            #last_pos = e.pos\n",
    "            if draw_on:\n",
    "                pygame.draw.rect(screen, (0,255,0), (pos1[0],pos1[1], e.pos[0] - pos1[0] ,e.pos[1] - pos1[1]), 10)\n",
    "            pass\n",
    "        if e.type == pygame.KEYDOWN:\n",
    "            if len(rects) > 0:\n",
    "                rects.pop()\n",
    "        pygame.display.flip()\n",
    "        screen.blit(Img, (0,0))\n",
    "        drawrects()\n",
    "        \n",
    "\n",
    "except StopIteration:\n",
    "    pass\n",
    "\n",
    "s = \"\"\n",
    "s += '(\"Memename\",'\n",
    "s +=  '\"' + file + '\",' \n",
    "s += \"{ \\n\"\n",
    "    \n",
    "o = 0\n",
    "for i in rects:\n",
    "    s += '    \"Field_' + str(o) + '\":((' + str(i[0]) + \",\" + str(i[1]) + \",\" + str(i[0] + i[2]) + \",\" + str(i[1] + i[3]) + \"),\"\n",
    "    s += standardcolor\n",
    "    s += \",\"\n",
    "    s += stadartsize\n",
    "    s += \"), \\n\"\n",
    "    o += 1\n",
    "s = s[:-1]\n",
    "s += \"}\"\n",
    "s += ',\"Fonts/sfont.otf\")'\n",
    "    \n",
    "pygame.quit()\n",
    "print(s)"
   ]
  },
  {
   "cell_type": "code",
   "execution_count": 67,
   "metadata": {},
   "outputs": [
    {
     "data": {
      "text/plain": [
       "'(\"Memename\",\"Templates/test.png\",{\"Field_0\":((851,408,1199,603),(0,0,0)40'"
      ]
     },
     "execution_count": 67,
     "metadata": {},
     "output_type": "execute_result"
    }
   ],
   "source": [
    "s"
   ]
  },
  {
   "cell_type": "code",
   "execution_count": 88,
   "metadata": {},
   "outputs": [
    {
     "data": {
      "text/plain": [
       "('Memename',\n",
       " 'Templates/Drake-Comparison.jpg',\n",
       " {'Field_0': ((5, 362, 586, 565), (0, 0, 0), 40),\n",
       "  'Field_1': ((602, 3, 600, 590), (0, 0, 0), 40),\n",
       "  'Field_2': ((599, 601, 1200, 1199), (0, 0, 0), 40)})"
      ]
     },
     "execution_count": 88,
     "metadata": {},
     "output_type": "execute_result"
    }
   ],
   "source": [
    "drake = (\"Memename\",\"Templates/Drake-Comparison.jpg\",{ \n",
    "    \"Field_0\":((5,362,586,565),(0,0,0),40), \n",
    "    \"Field_1\":((602,3,600,590),(0,0,0),40), \n",
    "    \"Field_2\":((599,601,1200,1199),(0,0,0),40), })\n",
    "drake"
   ]
  },
  {
   "cell_type": "code",
   "execution_count": null,
   "metadata": {},
   "outputs": [],
   "source": []
  }
 ],
 "metadata": {
  "kernelspec": {
   "display_name": "Python 3",
   "language": "python",
   "name": "python3"
  },
  "language_info": {
   "codemirror_mode": {
    "name": "ipython",
    "version": 3
   },
   "file_extension": ".py",
   "mimetype": "text/x-python",
   "name": "python",
   "nbconvert_exporter": "python",
   "pygments_lexer": "ipython3",
   "version": "3.7.5"
  }
 },
 "nbformat": 4,
 "nbformat_minor": 2
}
