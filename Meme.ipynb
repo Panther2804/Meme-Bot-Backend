{
 "cells": [
  {
   "cell_type": "code",
   "execution_count": 4,
   "metadata": {},
   "outputs": [],
   "source": [
    "from telegram.ext import ConversationHandler\n",
    "from telegram.ext import Filters\n",
    "from telegram.ext import CommandHandler, MessageHandler\n",
    "from telegram.ext import Updater\n",
    "import telegram\n",
    "from telegram import (ReplyKeyboardMarkup, ReplyKeyboardRemove)\n",
    "updater = Updater(token='token', use_context=True)\n",
    "dispatcher = updater.dispatcher\n",
    "import logging\n",
    "logging.basicConfig(format='%(asctime)s - %(name)s - %(levelname)s - %(message)s',\n",
    "                     level=logging.INFO)\n",
    "\n",
    "from PIL import Image, ImageDraw, ImageFont\n",
    "import textwrap"
   ]
  },
  {
   "cell_type": "code",
   "execution_count": 5,
   "metadata": {},
   "outputs": [],
   "source": [
    "from escpos.printer import Usb\n"
   ]
  },
  {
   "cell_type": "code",
   "execution_count": 6,
   "metadata": {},
   "outputs": [
    {
     "data": {
      "text/plain": [
       "{'Drake': ['Drake-Comparison.jpg',\n",
       "  {'Drake Name': (0, 300, 12),\n",
       "   'Drake No': (600, 0, 12),\n",
       "   'Drake Yes': (600, 600, 12)},\n",
       "  100],\n",
       " 'Expanding Brain': ['Expanding-Brain.jpg',\n",
       "  {'Small Brain': (0, 0, 22),\n",
       "   'Medium Brain': (0, 300, 22),\n",
       "   'Big Brain': (0, 600, 22),\n",
       "   'Biggest Brain': (0, 900, 22)},\n",
       "  40]}"
      ]
     },
     "execution_count": 6,
     "metadata": {},
     "output_type": "execute_result"
    }
   ],
   "source": [
    "\n",
    "drakememe = [\"Drake-Comparison.jpg\", {'Drake Name': (0,300,12), 'Drake No':(600,0,12),'Drake Yes':(600,600,12)}, 100]\n",
    "expandingbrain = [\"Expanding-Brain.jpg\", {\"Small Brain\": (0,0,22), \"Medium Brain\": (0,300,22), \"Big Brain\": (0,600,22), \"Biggest Brain\":(0,900,22)}, 40]\n",
    "memes = {\"Drake\":drakememe, \"Expanding Brain\": expandingbrain}\n",
    "#memes = {\"Expanding Brain\": expandingbrain}\n",
    "#memes{'drake'} #.append({'Drake No':[200,200],'Drake Yes':[200,400]})\n",
    "memes\n",
    "\n"
   ]
  },
  {
   "cell_type": "code",
   "execution_count": 7,
   "metadata": {},
   "outputs": [],
   "source": [
    "str(len(memes[str(\"Expanding Brain\")][1]))\n",
    "currentmeme = \"Drake\"\n",
    "\n"
   ]
  },
  {
   "cell_type": "code",
   "execution_count": 8,
   "metadata": {},
   "outputs": [],
   "source": [
    "\n",
    "\n",
    "\n",
    "\n",
    "  \n",
    "CONTENT, INFGAT, FIN = range(3)\n",
    "\n",
    "def start(update, context):\n",
    "    user_data = {}\n",
    "    #context.bot.send_message(chat_id=update.effective_chat.id, text=message)\n",
    "    message = \"Is this message \" + listcategories(\" or \", memes) + \" ?\"\n",
    "\n",
    "    reply_markup = telegram.ReplyKeyboardMarkup([list(memes.keys())])\n",
    "\n",
    "    context.bot.send_message(chat_id=update.effective_chat.id, \n",
    "             text=message, \n",
    "             reply_markup=reply_markup, one_time_keyboard=True)\n",
    "\n",
    "    \n",
    "    print(\"start done\")\n",
    "    return CONTENT\n",
    "    \n",
    "def content(update, context):\n",
    "    print(\"content\")\n",
    "    message = \"Ok. This message has \" + str(len(memes[str(update.message.text)][1])) + \" different text fields: \\n\"\n",
    "    for i in memes[str(update.message.text)][1]:\n",
    "        message += i + \" \\n\"\n",
    "    \n",
    "    \n",
    "    context.bot.send_message(chat_id=update.effective_chat.id, \n",
    "             text=message, \n",
    "             reply_markup= telegram.ReplyKeyboardRemove())\n",
    "    \n",
    "    context.user_data.update({'Meme': update.message.text})\n",
    "    context.user_data.update({'Textfield': 0})\n",
    "    \n",
    "    currentmeme = context.user_data[\"Meme\"]\n",
    "    textfieldnumber = context.user_data[\"Textfield\"]\n",
    "    message = \"We will start with \" + list(memes[currentmeme][1].keys())[textfieldnumber]\n",
    "    message += \". Please enter the text for this field now.\"\n",
    "    context.bot.send_message(chat_id=update.effective_chat.id, \n",
    "             text=message)\n",
    "    \n",
    "    \n",
    "\n",
    "    return INFGAT\n",
    "\n",
    "def textgatherer(update, context) :\n",
    "    currentmeme = context.user_data[\"Meme\"]\n",
    "    textfieldnumber = context.user_data[\"Textfield\"]\n",
    "    fieldname = list(memes[currentmeme][1].keys())[textfieldnumber]\n",
    "    \n",
    "    context.user_data.update({fieldname : update.message.text})\n",
    "    \n",
    "    context.user_data.update({'Textfield': context.user_data[\"Textfield\"] + 1})\n",
    "    textfieldnumber = context.user_data[\"Textfield\"]\n",
    "    \n",
    "    print(\"The Current Meme: \" + currentmeme)\n",
    "    print(\"Textfieldnumber \" + str(textfieldnumber))\n",
    "    print(\"fieldname \" + fieldname)\n",
    "    print(str(context.user_data))\n",
    "    \n",
    "    if context.user_data[\"Textfield\"] < len(memes[currentmeme][1]):\n",
    "        message = \"Ok. Now: \" + list(memes[currentmeme][1].keys())[textfieldnumber]\n",
    "        message += \"Please enter the text for this field now.\"\n",
    "\n",
    "        context.bot.send_message(chat_id=update.effective_chat.id, \n",
    "                 text=message)\n",
    "        \n",
    "    else:\n",
    "        context.bot.send_message(chat_id=update.effective_chat.id, \n",
    "                 text=\"your coder boy fucked up. this message should never appear\")\n",
    "    \n",
    "    if context.user_data[\"Textfield\"] < len(memes[currentmeme][1]) - 1:\n",
    "        return INFGAT\n",
    "    else:\n",
    "        return FIN\n",
    "    \n",
    "    \n",
    "    \n",
    "    \n",
    "\n",
    "#def mtype(update, context):\n",
    "#    #message = \"You will print: \" + context.user_data['text'] \n",
    "#    message = update.message.text + \" it is ! What Priority should be assigned ?\"\n",
    "#    context.user_data.update({'cat': update.message.text})\n",
    "#    reply_markup = telegram.ReplyKeyboardMarkup(priorities)\n",
    "#    context.bot.send_message(chat_id=update.effective_chat.id, text=message, reply_markup = reply_markup)\n",
    "    \n",
    "#    #return ConversationHandler.END\n",
    "#    return FIN\n",
    "\n",
    "def fin(update, context):\n",
    "    print(\"FIN---FIN---FIN---FIN---FIN---FIN---FIN---FIN---FIN\")\n",
    "    \n",
    "    \n",
    "    currentmeme = context.user_data[\"Meme\"]\n",
    "    textfieldnumber = context.user_data[\"Textfield\"]\n",
    "    fieldname = list(memes[currentmeme][1].keys())[textfieldnumber]\n",
    "    \n",
    "    context.user_data.update({fieldname : update.message.text})\n",
    "    \n",
    "    context.user_data.update({'Textfield': context.user_data[\"Textfield\"] + 1})\n",
    "    textfieldnumber = context.user_data[\"Textfield\"]\n",
    "    \n",
    "    print(\"The Current Meme: \" + currentmeme)\n",
    "    print(\"Textfieldnumber \" + str(textfieldnumber))\n",
    "    print(\"fieldname \" + fieldname)\n",
    "    print(str(context.user_data))\n",
    "    \n",
    "    #context.user_data.update({'pri': update.message.text})\n",
    "    message = \"Ok. Your message is done. You entered the following parameters: \\n\"\n",
    "    for i in context.user_data:\n",
    "        message += (i + \" : \" +   str(context.user_data[i])) + \"\\n\"\n",
    "        \n",
    "    context.bot.send_message(chat_id=update.effective_chat.id, text=message, reply_markup = telegram.ReplyKeyboardRemove())\n",
    "    print(type(context.user_data))\n",
    "    \n",
    "    makememe(context.user_data)\n",
    "    context.bot.send_photo(chat_id=update.effective_chat.id, photo=open('test.png', 'rb'))\n",
    "    \n",
    "    return ConversationHandler.END\n",
    "    \n",
    "    \n",
    "\n",
    "conv_handler = ConversationHandler(\n",
    "        entry_points=[CommandHandler('start', start)],\n",
    "\n",
    "        states={\n",
    "            CONTENT: [MessageHandler(Filters.text, content)],\n",
    "            INFGAT: [MessageHandler(Filters.text, textgatherer)],\n",
    "            FIN: [MessageHandler(Filters.text, fin)]\n",
    "        },\n",
    "\n",
    "        fallbacks=[CommandHandler('cancel', start)]\n",
    "    )\n",
    "\n",
    "    \n",
    "        \n",
    "dispatcher.add_handler(conv_handler)\n",
    "        \n",
    "\n",
    "    \n",
    "    \n",
    "        \n",
    "    \n"
   ]
  },
  {
   "cell_type": "code",
   "execution_count": 9,
   "metadata": {},
   "outputs": [],
   "source": [
    "def listcategories(divider, divlist):\n",
    "    s = \"\"\n",
    "    for i in divlist:\n",
    "        s += i\n",
    "        s += divider\n",
    "            \n",
    "    s = s[:-len(divider)]\n",
    "    return s\n",
    "\n",
    "\n"
   ]
  },
  {
   "cell_type": "code",
   "execution_count": 10,
   "metadata": {},
   "outputs": [],
   "source": [
    "from telegram.ext import CommandHandler\n",
    "start_handler = CommandHandler('start', start)\n",
    "dispatcher.add_handler(start_handler)\n",
    "\n",
    "\n",
    "def caps(update, context):\n",
    "    text_caps = ' '.join(context.args).upper()\n",
    "    context.bot.send_message(chat_id=update.effective_chat.id, text=text_caps)\n",
    "\n",
    "\n",
    "caps_handler = CommandHandler('caps', caps)\n",
    "dispatcher.add_handler(caps_handler)\n",
    "\n",
    "\n",
    "\n",
    "#from telegram.ext import MessageHandler, Filters\n",
    "#echo_handler = MessageHandler(Filters.text, echo)\n",
    "#dispatcher.add_handler(echo_handler)\n"
   ]
  },
  {
   "cell_type": "code",
   "execution_count": 11,
   "metadata": {},
   "outputs": [],
   "source": [
    "def makememe(user_data):\n",
    "    memeinfo = memes[user_data[\"Meme\"]]\n",
    "    im = Image.open(memeinfo[0])\n",
    "    draw = ImageDraw.Draw(im)\n",
    "    \n",
    "    smallfont = ImageFont.truetype(\"sfont.otf\", memeinfo[2])\n",
    "    for i in memeinfo[1]:\n",
    "        #memeinfo[1][i] cords\n",
    "        print(i)\n",
    "        wrap(user_data[i], memeinfo[1][i][0], memeinfo[1][i][1], draw, smallfont, memeinfo[1][i][2])\n",
    "\n",
    "    im.save(\"test.png\")\n",
    "    \n",
    "    \n",
    "\n",
    "\n",
    "def rmaxwidth(text, width, font):\n",
    "    print(\"Text: \" + text + \" Width: \" + str(width))\n",
    "    for i in range(0, len(text)):\n",
    "        if font.getsize(text[:i])[0] > width:\n",
    "            print(\"returning: \" + text[:i-1])\n",
    "            print(\"because \" + str(font.getsize(text[:i])[0]))\n",
    "            \n",
    "            return text[:i-1]\n",
    "    print(\"returning whole text\")\n",
    "    return text\n",
    "\n",
    "\n",
    "def wrap(text, x, y, draw, font, margin):\n",
    "    for line in textwrap.wrap(text, width=margin):\n",
    "        draw.text((x, y), line, font=font, fill=\"#000000\")\n",
    "        y += font.getsize(line)[1]"
   ]
  },
  {
   "cell_type": "code",
   "execution_count": 12,
   "metadata": {
    "scrolled": false
   },
   "outputs": [
    {
     "data": {
      "text/plain": [
       "<queue.Queue at 0x7f8031634d90>"
      ]
     },
     "execution_count": 12,
     "metadata": {},
     "output_type": "execute_result"
    },
    {
     "name": "stderr",
     "output_type": "stream",
     "text": [
      "2020-02-26 22:23:17,261 - telegram.ext.dispatcher - ERROR - No error handlers are registered, logging exception.\n",
      "Traceback (most recent call last):\n",
      "  File \"/home/ppasch/.local/lib/python3.7/site-packages/telegram/ext/dispatcher.py\", line 390, in process_update\n",
      "    handler.handle_update(update, self, check, context)\n",
      "  File \"/home/ppasch/.local/lib/python3.7/site-packages/telegram/ext/conversationhandler.py\", line 381, in handle_update\n",
      "    new_state = handler.handle_update(update, dispatcher, check_result, context)\n",
      "  File \"/home/ppasch/.local/lib/python3.7/site-packages/telegram/ext/handler.py\", line 117, in handle_update\n",
      "    return self.callback(update, context)\n",
      "  File \"<ipython-input-8-39fe91b357a7>\", line 20, in content\n",
      "    message = \"Ok. This message has \" + str(len(memes[str(update.message.text)][1])) + \" different text fields: \\n\"\n",
      "KeyError: '1'\n",
      "2020-02-26 22:23:17,267 - telegram.ext.dispatcher - ERROR - No error handlers are registered, logging exception.\n",
      "Traceback (most recent call last):\n",
      "  File \"/home/ppasch/.local/lib/python3.7/site-packages/telegram/ext/dispatcher.py\", line 390, in process_update\n",
      "    handler.handle_update(update, self, check, context)\n",
      "  File \"/home/ppasch/.local/lib/python3.7/site-packages/telegram/ext/conversationhandler.py\", line 381, in handle_update\n",
      "    new_state = handler.handle_update(update, dispatcher, check_result, context)\n",
      "  File \"/home/ppasch/.local/lib/python3.7/site-packages/telegram/ext/handler.py\", line 117, in handle_update\n",
      "    return self.callback(update, context)\n",
      "  File \"<ipython-input-8-39fe91b357a7>\", line 20, in content\n",
      "    message = \"Ok. This message has \" + str(len(memes[str(update.message.text)][1])) + \" different text fields: \\n\"\n",
      "KeyError: '2'\n",
      "2020-02-26 22:23:17,325 - telegram.ext.dispatcher - ERROR - No error handlers are registered, logging exception.\n",
      "Traceback (most recent call last):\n",
      "  File \"/home/ppasch/.local/lib/python3.7/site-packages/telegram/ext/dispatcher.py\", line 390, in process_update\n",
      "    handler.handle_update(update, self, check, context)\n",
      "  File \"/home/ppasch/.local/lib/python3.7/site-packages/telegram/ext/conversationhandler.py\", line 381, in handle_update\n",
      "    new_state = handler.handle_update(update, dispatcher, check_result, context)\n",
      "  File \"/home/ppasch/.local/lib/python3.7/site-packages/telegram/ext/handler.py\", line 117, in handle_update\n",
      "    return self.callback(update, context)\n",
      "  File \"<ipython-input-8-39fe91b357a7>\", line 20, in content\n",
      "    message = \"Ok. This message has \" + str(len(memes[str(update.message.text)][1])) + \" different text fields: \\n\"\n",
      "KeyError: '.'\n",
      "2020-02-26 22:23:17,326 - telegram.ext.dispatcher - ERROR - No error handlers are registered, logging exception.\n",
      "Traceback (most recent call last):\n",
      "  File \"/home/ppasch/.local/lib/python3.7/site-packages/telegram/ext/dispatcher.py\", line 390, in process_update\n",
      "    handler.handle_update(update, self, check, context)\n",
      "  File \"/home/ppasch/.local/lib/python3.7/site-packages/telegram/ext/conversationhandler.py\", line 381, in handle_update\n",
      "    new_state = handler.handle_update(update, dispatcher, check_result, context)\n",
      "  File \"/home/ppasch/.local/lib/python3.7/site-packages/telegram/ext/handler.py\", line 117, in handle_update\n",
      "    return self.callback(update, context)\n",
      "  File \"<ipython-input-8-39fe91b357a7>\", line 20, in content\n",
      "    message = \"Ok. This message has \" + str(len(memes[str(update.message.text)][1])) + \" different text fields: \\n\"\n",
      "KeyError: '.'\n",
      "2020-02-26 22:23:17,327 - telegram.ext.dispatcher - ERROR - No error handlers are registered, logging exception.\n",
      "Traceback (most recent call last):\n",
      "  File \"/home/ppasch/.local/lib/python3.7/site-packages/telegram/ext/dispatcher.py\", line 390, in process_update\n",
      "    handler.handle_update(update, self, check, context)\n",
      "  File \"/home/ppasch/.local/lib/python3.7/site-packages/telegram/ext/conversationhandler.py\", line 381, in handle_update\n",
      "    new_state = handler.handle_update(update, dispatcher, check_result, context)\n",
      "  File \"/home/ppasch/.local/lib/python3.7/site-packages/telegram/ext/handler.py\", line 117, in handle_update\n",
      "    return self.callback(update, context)\n",
      "  File \"<ipython-input-8-39fe91b357a7>\", line 20, in content\n",
      "    message = \"Ok. This message has \" + str(len(memes[str(update.message.text)][1])) + \" different text fields: \\n\"\n",
      "KeyError: '.'\n"
     ]
    },
    {
     "name": "stdout",
     "output_type": "stream",
     "text": [
      "start done\n",
      "content\n",
      "content\n",
      "start done\n",
      "content\n",
      "content\n",
      "content\n",
      "content\n",
      "The Current Meme: Drake\n",
      "Textfieldnumber 1\n",
      "fieldname Drake Name\n",
      "{'Meme': 'Drake', 'Textfield': 1, 'Drake Name': '1'}\n",
      "The Current Meme: Drake\n",
      "Textfieldnumber 2\n",
      "fieldname Drake No\n",
      "{'Meme': 'Drake', 'Textfield': 2, 'Drake Name': '1', 'Drake No': '2'}\n",
      "FIN---FIN---FIN---FIN---FIN---FIN---FIN---FIN---FIN\n",
      "The Current Meme: Drake\n",
      "Textfieldnumber 3\n",
      "fieldname Drake Yes\n",
      "{'Meme': 'Drake', 'Textfield': 3, 'Drake Name': '1', 'Drake No': '2', 'Drake Yes': '3'}\n",
      "<class 'dict'>\n",
      "Drake Name\n",
      "Drake No\n",
      "Drake Yes\n",
      "start done\n",
      "content\n",
      "The Current Meme: Drake\n",
      "Textfieldnumber 1\n",
      "fieldname Drake Name\n",
      "{'Meme': 'Drake', 'Textfield': 1, 'Drake Name': 'df hrtoueh t öioert a jraeriot kj', 'Drake No': '2', 'Drake Yes': '3'}\n",
      "The Current Meme: Drake\n",
      "Textfieldnumber 2\n",
      "fieldname Drake No\n",
      "{'Meme': 'Drake', 'Textfield': 2, 'Drake Name': 'df hrtoueh t öioert a jraeriot kj', 'Drake No': 'oth wrrrlie th erit  wjht wret', 'Drake Yes': '3'}\n",
      "FIN---FIN---FIN---FIN---FIN---FIN---FIN---FIN---FIN\n",
      "The Current Meme: Drake\n",
      "Textfieldnumber 3\n",
      "fieldname Drake Yes\n",
      "{'Meme': 'Drake', 'Textfield': 3, 'Drake Name': 'df hrtoueh t öioert a jraeriot kj', 'Drake No': 'oth wrrrlie th erit  wjht wret', 'Drake Yes': 'w tuoehaWTR  WERUTH WERT KJHSDG HJ'}\n",
      "<class 'dict'>\n",
      "Drake Name\n",
      "Drake No\n",
      "Drake Yes\n"
     ]
    },
    {
     "name": "stderr",
     "output_type": "stream",
     "text": [
      "2020-02-26 22:24:25,848 - telegram.ext.dispatcher - ERROR - No error handlers are registered, logging exception.\n",
      "Traceback (most recent call last):\n",
      "  File \"/home/ppasch/.local/lib/python3.7/site-packages/telegram/ext/dispatcher.py\", line 390, in process_update\n",
      "    handler.handle_update(update, self, check, context)\n",
      "  File \"/home/ppasch/.local/lib/python3.7/site-packages/telegram/ext/conversationhandler.py\", line 381, in handle_update\n",
      "    new_state = handler.handle_update(update, dispatcher, check_result, context)\n",
      "  File \"/home/ppasch/.local/lib/python3.7/site-packages/telegram/ext/handler.py\", line 117, in handle_update\n",
      "    return self.callback(update, context)\n",
      "  File \"<ipython-input-8-39fe91b357a7>\", line 20, in content\n",
      "    message = \"Ok. This message has \" + str(len(memes[str(update.message.text)][1])) + \" different text fields: \\n\"\n",
      "KeyError: 'Brettspiel Chat ?'\n"
     ]
    },
    {
     "name": "stdout",
     "output_type": "stream",
     "text": [
      "content\n"
     ]
    },
    {
     "name": "stderr",
     "output_type": "stream",
     "text": [
      "2020-02-26 22:24:30,400 - telegram.ext.dispatcher - ERROR - No error handlers are registered, logging exception.\n",
      "Traceback (most recent call last):\n",
      "  File \"/home/ppasch/.local/lib/python3.7/site-packages/telegram/ext/dispatcher.py\", line 390, in process_update\n",
      "    handler.handle_update(update, self, check, context)\n",
      "  File \"/home/ppasch/.local/lib/python3.7/site-packages/telegram/ext/conversationhandler.py\", line 381, in handle_update\n",
      "    new_state = handler.handle_update(update, dispatcher, check_result, context)\n",
      "  File \"/home/ppasch/.local/lib/python3.7/site-packages/telegram/ext/handler.py\", line 117, in handle_update\n",
      "    return self.callback(update, context)\n",
      "  File \"<ipython-input-8-39fe91b357a7>\", line 20, in content\n",
      "    message = \"Ok. This message has \" + str(len(memes[str(update.message.text)][1])) + \" different text fields: \\n\"\n",
      "KeyError: 'Meme chat'\n"
     ]
    },
    {
     "name": "stdout",
     "output_type": "stream",
     "text": [
      "content\n",
      "content\n",
      "The Current Meme: Drake\n",
      "Textfieldnumber 1\n",
      "fieldname Drake Name\n",
      "{'Meme': 'Drake', 'Textfield': 1, 'Drake Name': 'Chat'}\n",
      "The Current Meme: Drake\n",
      "Textfieldnumber 2\n",
      "fieldname Drake No\n",
      "{'Meme': 'Drake', 'Textfield': 2, 'Drake Name': 'Chat', 'Drake No': 'Brettspiel chat'}\n",
      "FIN---FIN---FIN---FIN---FIN---FIN---FIN---FIN---FIN\n",
      "The Current Meme: Drake\n",
      "Textfieldnumber 3\n",
      "fieldname Drake Yes\n",
      "{'Meme': 'Drake', 'Textfield': 3, 'Drake Name': 'Chat', 'Drake No': 'Brettspiel chat', 'Drake Yes': 'Meme chat'}\n",
      "<class 'dict'>\n",
      "Drake Name\n",
      "Drake No\n",
      "Drake Yes\n",
      "start done\n",
      "content\n",
      "The Current Meme: Expanding Brain\n",
      "Textfieldnumber 1\n",
      "fieldname Small Brain\n",
      "{'Meme': 'Expanding Brain', 'Textfield': 1, 'Drake Name': 'df hrtoueh t öioert a jraeriot kj', 'Drake No': 'oth wrrrlie th erit  wjht wret', 'Drake Yes': 'w tuoehaWTR  WERUTH WERT KJHSDG HJ', 'Small Brain': 'Meme Maker benutzen'}\n",
      "The Current Meme: Expanding Brain\n",
      "Textfieldnumber 2\n",
      "fieldname Medium Brain\n",
      "{'Meme': 'Expanding Brain', 'Textfield': 2, 'Drake Name': 'df hrtoueh t öioert a jraeriot kj', 'Drake No': 'oth wrrrlie th erit  wjht wret', 'Drake Yes': 'w tuoehaWTR  WERUTH WERT KJHSDG HJ', 'Small Brain': 'Meme Maker benutzen', 'Medium Brain': 'Bot programmieren und lokal laufen lassen'}\n",
      "The Current Meme: Expanding Brain\n",
      "Textfieldnumber 3\n",
      "fieldname Big Brain\n",
      "{'Meme': 'Expanding Brain', 'Textfield': 3, 'Drake Name': 'df hrtoueh t öioert a jraeriot kj', 'Drake No': 'oth wrrrlie th erit  wjht wret', 'Drake Yes': 'w tuoehaWTR  WERUTH WERT KJHSDG HJ', 'Small Brain': 'Meme Maker benutzen', 'Medium Brain': 'Bot programmieren und lokal laufen lassen', 'Big Brain': 'Bot auf Server hosten'}\n",
      "FIN---FIN---FIN---FIN---FIN---FIN---FIN---FIN---FIN\n",
      "The Current Meme: Expanding Brain\n",
      "Textfieldnumber 4\n",
      "fieldname Biggest Brain\n",
      "{'Meme': 'Expanding Brain', 'Textfield': 4, 'Drake Name': 'df hrtoueh t öioert a jraeriot kj', 'Drake No': 'oth wrrrlie th erit  wjht wret', 'Drake Yes': 'w tuoehaWTR  WERUTH WERT KJHSDG HJ', 'Small Brain': 'Meme Maker benutzen', 'Medium Brain': 'Bot programmieren und lokal laufen lassen', 'Big Brain': 'Bot auf Server hosten', 'Biggest Brain': 'So tun, als hätte man einen Bot programmiert, aber in Wirklichkeit die Memes 24/7 selber erstellen'}\n",
      "<class 'dict'>\n",
      "Small Brain\n",
      "Medium Brain\n",
      "Big Brain\n",
      "Biggest Brain\n",
      "start done\n",
      "content\n",
      "The Current Meme: Expanding Brain\n",
      "Textfieldnumber 1\n",
      "fieldname Small Brain\n",
      "{'Meme': 'Expanding Brain', 'Textfield': 1, 'Drake Name': 'df hrtoueh t öioert a jraeriot kj', 'Drake No': 'oth wrrrlie th erit  wjht wret', 'Drake Yes': 'w tuoehaWTR  WERUTH WERT KJHSDG HJ', 'Small Brain': 'Memes mit Memematic machen', 'Medium Brain': 'Bot programmieren und lokal laufen lassen', 'Big Brain': 'Bot auf Server hosten', 'Biggest Brain': 'So tun, als hätte man einen Bot programmiert, aber in Wirklichkeit die Memes 24/7 selber erstellen'}\n",
      "The Current Meme: Expanding Brain\n",
      "Textfieldnumber 2\n",
      "fieldname Medium Brain\n",
      "{'Meme': 'Expanding Brain', 'Textfield': 2, 'Drake Name': 'df hrtoueh t öioert a jraeriot kj', 'Drake No': 'oth wrrrlie th erit  wjht wret', 'Drake Yes': 'w tuoehaWTR  WERUTH WERT KJHSDG HJ', 'Small Brain': 'Memes mit Memematic machen', 'Medium Brain': 'Memes mit Paint machen', 'Big Brain': 'Bot auf Server hosten', 'Biggest Brain': 'So tun, als hätte man einen Bot programmiert, aber in Wirklichkeit die Memes 24/7 selber erstellen'}\n",
      "The Current Meme: Expanding Brain\n",
      "Textfieldnumber 3\n",
      "fieldname Big Brain\n",
      "{'Meme': 'Expanding Brain', 'Textfield': 3, 'Drake Name': 'df hrtoueh t öioert a jraeriot kj', 'Drake No': 'oth wrrrlie th erit  wjht wret', 'Drake Yes': 'w tuoehaWTR  WERUTH WERT KJHSDG HJ', 'Small Brain': 'Memes mit Memematic machen', 'Medium Brain': 'Memes mit Paint machen', 'Big Brain': 'Memes zeichnen', 'Biggest Brain': 'So tun, als hätte man einen Bot programmiert, aber in Wirklichkeit die Memes 24/7 selber erstellen'}\n",
      "FIN---FIN---FIN---FIN---FIN---FIN---FIN---FIN---FIN\n",
      "The Current Meme: Expanding Brain\n",
      "Textfieldnumber 4\n",
      "fieldname Biggest Brain\n",
      "{'Meme': 'Expanding Brain', 'Textfield': 4, 'Drake Name': 'df hrtoueh t öioert a jraeriot kj', 'Drake No': 'oth wrrrlie th erit  wjht wret', 'Drake Yes': 'w tuoehaWTR  WERUTH WERT KJHSDG HJ', 'Small Brain': 'Memes mit Memematic machen', 'Medium Brain': 'Memes mit Paint machen', 'Big Brain': 'Memes zeichnen', 'Biggest Brain': 'Stundenlang einen Bot programmieren, der für 3 Sekunden witzig ist'}\n",
      "<class 'dict'>\n",
      "Small Brain\n",
      "Medium Brain\n",
      "Big Brain\n",
      "Biggest Brain\n"
     ]
    }
   ],
   "source": [
    "updater.start_polling()"
   ]
  },
  {
   "cell_type": "code",
   "execution_count": 11,
   "metadata": {},
   "outputs": [],
   "source": [
    "updater.stop()"
   ]
  },
  {
   "cell_type": "code",
   "execution_count": 11,
   "metadata": {},
   "outputs": [],
   "source": [
    "\n",
    "user_data = {'Meme': 'Expanding Brain', 'Textfield': 4, 'Drake No': 'c1', 'Drake Yes': 'c2', 'pri': 'c2', 'Small Brain': 'small brain text placeholder important for testing', 'Medium Brain': 'medium brain text placeholder important for testing', 'Big Brain': 'big brain text placeholder important for testing', 'Biggest Brain': 'biggest brain text placeholder important for testing'}"
   ]
  },
  {
   "cell_type": "code",
   "execution_count": 12,
   "metadata": {},
   "outputs": [
    {
     "data": {
      "text/plain": [
       "{'Meme': 'Expanding Brain',\n",
       " 'Textfield': 4,\n",
       " 'Drake No': 'c1',\n",
       " 'Drake Yes': 'c2',\n",
       " 'pri': 'c2',\n",
       " 'Small Brain': 'small brain text placeholder important for testing',\n",
       " 'Medium Brain': 'medium brain text placeholder important for testing',\n",
       " 'Big Brain': 'big brain text placeholder important for testing',\n",
       " 'Biggest Brain': 'biggest brain text placeholder important for testing'}"
      ]
     },
     "execution_count": 12,
     "metadata": {},
     "output_type": "execute_result"
    }
   ],
   "source": [
    "user_data"
   ]
  },
  {
   "cell_type": "code",
   "execution_count": 13,
   "metadata": {},
   "outputs": [
    {
     "data": {
      "text/plain": [
       "{'Expanding Brain': ['Expanding-Brain.jpg',\n",
       "  {'Small Brain': (0, 0, 22),\n",
       "   'Medium Brain': (0, 300, 22),\n",
       "   'Big Brain': (0, 600, 22),\n",
       "   'Biggest Brain': (0, 900, 22)},\n",
       "  40]}"
      ]
     },
     "execution_count": 13,
     "metadata": {},
     "output_type": "execute_result"
    }
   ],
   "source": [
    "memes"
   ]
  },
  {
   "cell_type": "code",
   "execution_count": 14,
   "metadata": {},
   "outputs": [
    {
     "data": {
      "text/plain": [
       "['Expanding-Brain.jpg',\n",
       " {'Small Brain': (0, 0, 22),\n",
       "  'Medium Brain': (0, 300, 22),\n",
       "  'Big Brain': (0, 600, 22),\n",
       "  'Biggest Brain': (0, 900, 22)},\n",
       " 40]"
      ]
     },
     "execution_count": 14,
     "metadata": {},
     "output_type": "execute_result"
    }
   ],
   "source": [
    "memeinfo = memes[user_data[\"Meme\"]]\n",
    "memeinfo"
   ]
  },
  {
   "cell_type": "code",
   "execution_count": null,
   "metadata": {},
   "outputs": [],
   "source": []
  },
  {
   "cell_type": "code",
   "execution_count": 15,
   "metadata": {},
   "outputs": [],
   "source": [
    "im = Image.open(memeinfo[0])\n",
    "draw = ImageDraw.Draw(im)"
   ]
  },
  {
   "cell_type": "code",
   "execution_count": null,
   "metadata": {},
   "outputs": [],
   "source": []
  },
  {
   "cell_type": "code",
   "execution_count": null,
   "metadata": {},
   "outputs": [],
   "source": [
    "\n",
    "        "
   ]
  },
  {
   "cell_type": "code",
   "execution_count": 16,
   "metadata": {},
   "outputs": [
    {
     "name": "stdout",
     "output_type": "stream",
     "text": [
      "Small Brain\n",
      "Medium Brain\n",
      "Big Brain\n",
      "Biggest Brain\n"
     ]
    }
   ],
   "source": [
    "smallfont = ImageFont.truetype(\"sfont.otf\", memeinfo[2])\n",
    "for i in memeinfo[1]:\n",
    "    #memeinfo[1][i] cords\n",
    "    print(i)\n",
    "    wrap(user_data[i], memeinfo[1][i][0], memeinfo[1][i][1], draw, smallfont, memeinfo[1][i][2])\n",
    "\n",
    "im.save(\"test.png\")"
   ]
  },
  {
   "cell_type": "code",
   "execution_count": 17,
   "metadata": {},
   "outputs": [],
   "source": [
    "def makememe(user_data):\n",
    "    memeinfo = memes[user_data[\"Meme\"]]\n",
    "    im = Image.open(memeinfo[0])\n",
    "    draw = ImageDraw.Draw(im)\n",
    "    \n",
    "    smallfont = ImageFont.truetype(\"sfont.otf\", memeinfo[2])\n",
    "    for i in memeinfo[1]:\n",
    "        #memeinfo[1][i] cords\n",
    "        print(i)\n",
    "        wrap(user_data[i], memeinfo[1][i][0], memeinfo[1][i][1], draw, smallfont, memeinfo[1][i][2])\n",
    "\n",
    "    im.save(\"test.png\")\n",
    "    \n",
    "    \n",
    "\n",
    "\n",
    "def rmaxwidth(text, width, font):\n",
    "    print(\"Text: \" + text + \" Width: \" + str(width))\n",
    "    for i in range(0, len(text)):\n",
    "        if font.getsize(text[:i])[0] > width:\n",
    "            print(\"returning: \" + text[:i-1])\n",
    "            print(\"because \" + str(font.getsize(text[:i])[0]))\n",
    "            \n",
    "            return text[:i-1]\n",
    "    print(\"returning whole text\")\n",
    "    return text\n",
    "\n",
    "\n",
    "def wrap(text, x, y, draw, font, margin):\n",
    "    for line in textwrap.wrap(text, width=margin):\n",
    "        draw.text((x, y), line, font=font, fill=\"#000000\")\n",
    "        y += font.getsize(line)[1]"
   ]
  },
  {
   "cell_type": "code",
   "execution_count": 17,
   "metadata": {},
   "outputs": [
    {
     "data": {
      "text/plain": [
       "[['drake', 'tupac'], ['boyfried', 'brain'], ['bob']]"
      ]
     },
     "execution_count": 17,
     "metadata": {},
     "output_type": "execute_result"
    }
   ],
   "source": [
    "memes = {\"drake\":1, \"tupac\":2, \"boyfried\":3, \"brain\":4, \"bob\" : 5}\n",
    "r = []\n",
    "if len(memes) % 2 != 1:\n",
    "    for i in range(0, len(memes), 2):\n",
    "        r.append([list(memes.keys())[i], list(memes.keys())[i + 1] ])\n",
    "else:\n",
    "    for i in range(0, len(memes) - 1, 2):\n",
    "        r.append([list(memes.keys())[i], list(memes.keys())[i + 1] ])\n",
    "    r.append([list(memes.keys())[-1]])\n",
    "return r"
   ]
  },
  {
   "cell_type": "code",
   "execution_count": null,
   "metadata": {},
   "outputs": [],
   "source": []
  }
 ],
 "metadata": {
  "kernelspec": {
   "display_name": "Python 3",
   "language": "python",
   "name": "python3"
  },
  "language_info": {
   "codemirror_mode": {
    "name": "ipython",
    "version": 3
   },
   "file_extension": ".py",
   "mimetype": "text/x-python",
   "name": "python",
   "nbconvert_exporter": "python",
   "pygments_lexer": "ipython3",
   "version": "3.7.5"
  }
 },
 "nbformat": 4,
 "nbformat_minor": 2
}
